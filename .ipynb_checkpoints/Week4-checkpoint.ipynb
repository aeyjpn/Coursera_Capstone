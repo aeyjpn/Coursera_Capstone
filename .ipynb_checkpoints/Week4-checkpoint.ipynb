{
 "cells": [
  {
   "cell_type": "markdown",
   "metadata": {},
   "source": [
    "# Data Science Capstone Project Intro - the city of Bangkok, Thailand"
   ]
  },
  {
   "cell_type": "markdown",
   "metadata": {},
   "source": [
    "## Introduction/Business Problem"
   ]
  },
  {
   "cell_type": "markdown",
   "metadata": {},
   "source": [
    "![Bangkok photo](bangkok_photo1.jpg \"Bangkok photo\")"
   ]
  },
  {
   "cell_type": "markdown",
   "metadata": {},
   "source": [
    "###### Photo by: https://bangkokattractions.com/fun-facts-about-bangkok/"
   ]
  },
  {
   "cell_type": "markdown",
   "metadata": {},
   "source": [
    "#### Bangkok, the capital city of Thailand is very famous among visitors as its versatility point of interests and attractions.\n",
    "Bangkok is the hub for most commercial and economical activities of Thailand.\n",
    "As well as, the hub for tourists. Temples, the Grand Palace and lots of shopping centers that largest in Asia.\n",
    "From department stores to outdoor market where you can shopping all day all night with many unique items were selling.\n",
    "Thus, many variety of foods and restaurants scatter around Bangkok.\n",
    "If someone is looking to open a restaurant, what kind of food or restaurant will be the best.\n",
    "And what area of Bangkok will be the most potential place to open, to make the good revenue.\n",
    "##### How can I recommend them to start their businesses? That is the interested problem to solve."
   ]
  },
  {
   "cell_type": "markdown",
   "metadata": {},
   "source": [
    "## Data Section"
   ]
  },
  {
   "cell_type": "markdown",
   "metadata": {},
   "source": [
    "![data photo](data_photo1.jpg \"Data photo\")"
   ]
  },
  {
   "cell_type": "markdown",
   "metadata": {},
   "source": [
    "###### Image by: https://innovativeadagency.com/blog/importance-data-collection/"
   ]
  },
  {
   "cell_type": "markdown",
   "metadata": {},
   "source": [
    "#### To find the solutions, \n",
    "I have to collect some data from Thai Government, private organizations and Wikipedia such as,\n",
    "Bangkok district information, neighborhood, population, residence, land price and geolocation. First to analysis present situations and insight in Bangkok.\n",
    "Then I will use place API from Foursquare, to compare, analysis and predict that what is/are the most capability place by type of food business to start with.\n",
    "There will be used of many Machine Learning Models and Algorithms to help the analysis more precisely and accurately."
   ]
  },
  {
   "cell_type": "markdown",
   "metadata": {},
   "source": [
    "### Data collection, Data sources:\n",
    "\n",
    "I research to collect data for Bangkok. Unfortunately many of them didn't be extracted easily.\n",
    "Because most of them are very difficult format to use and their structure are very poor, such as \n",
    "English name seperately, even some Thai name, latitude and longitude didn't accurately, not easy to use geojson file, data almost picture and pdf format etc.\n",
    "Thus, I have to use web scraping technic to creat base data, compute numeric data then input data manually.\n",
    "\n",
    "1. Base data sources (web scraping)  \n",
    "**Bangkok: district name, population, lat, lon**  \n",
    "*Wikipedia*  \n",
    "https://en.wikipedia.org/wiki/List_of_districts_of_Bangkok\n",
    "\n",
    "\n",
    "2. Additional Features (web scraping and input manually)  \n",
    "**Bangkok: population, residence by district, province**  \n",
    "*(Thai Government) Official Statstics Registration Systems*  \n",
    "http://stat.bora.dopa.go.th/stat/statnew/statTDD/views/showProvinceData.php\n",
    "\n",
    "\n",
    "3. Additional Features (web scraping and input manually)  \n",
    "**Bangkok: district sizes**  \n",
    "*Wikisource*  \n",
    "https://th.wikisource.org/wiki/%E0%B8%A3%E0%B8%B2%E0%B8%A2%E0%B8%8A%E0%B8%B7%E0%B9%88%E0%B8%AD%E0%B9%80%E0%B8%82%E0%B8%95%E0%B9%83%E0%B8%99%E0%B8%81%E0%B8%A3%E0%B8%B8%E0%B8%87%E0%B9%80%E0%B8%97%E0%B8%9E%E0%B8%A1%E0%B8%AB%E0%B8%B2%E0%B8%99%E0%B8%84%E0%B8%A3%E0%B9%80%E0%B8%A3%E0%B8%B5%E0%B8%A2%E0%B8%87%E0%B8%95%E0%B8%B2%E0%B8%A1%E0%B8%82%E0%B8%99%E0%B8%B2%E0%B8%94%E0%B8%9E%E0%B8%B7%E0%B9%89%E0%B8%99%E0%B8%97%E0%B8%B5%E0%B9%88\n",
    "\n",
    "\n",
    "4. Additional Features (compute prices by mid-range)  \n",
    "**Bangkok: land prices estimation**  \n",
    "*(Thai Government) The Treasury Department*  \n",
    "http://www.treasury.go.th/ewt_news.php?nid=173\n",
    "\n",
    "\n",
    "5. Check features (map, lat, lon) that reliable or not and edit some of them. (input manually)  \n",
    "**Bangkok:  lat, lon, area names**  \n",
    "*Google Map*  \n",
    "https://www.google.com/maps/\n",
    "\n",
    "\n",
    "6. Source geojson file (map, lat, lon)  \n",
    "**Bangkok:  geojson file**  \n",
    "*WorldMap by Harvard University*  \n",
    "http://worldmap.harvard.edu/data/geonode:adm2_greaterBK_hD4\n",
    "\n",
    "\n",
    "7. Check features (map, lat, lon) edit and create new geojson file. (edit json file)  \n",
    "**Bangkok:  geojson file edit by district**  \n",
    "*Nominatim (Openstreetmap)*  \n",
    "https://nominatim.openstreetmap.org/\n",
    "\n"
   ]
  },
  {
   "cell_type": "markdown",
   "metadata": {},
   "source": [
    "After data was collected and clean, **I was summarize these data to easy-to-use format.\n",
    "Then create a new dataset by excel format as below.**"
   ]
  },
  {
   "cell_type": "code",
   "execution_count": 13,
   "metadata": {},
   "outputs": [
    {
     "data": {
      "text/html": [
       "<div>\n",
       "<style scoped>\n",
       "    .dataframe tbody tr th:only-of-type {\n",
       "        vertical-align: middle;\n",
       "    }\n",
       "\n",
       "    .dataframe tbody tr th {\n",
       "        vertical-align: top;\n",
       "    }\n",
       "\n",
       "    .dataframe thead th {\n",
       "        text-align: right;\n",
       "    }\n",
       "</style>\n",
       "<table border=\"1\" class=\"dataframe\">\n",
       "  <thead>\n",
       "    <tr style=\"text-align: right;\">\n",
       "      <th></th>\n",
       "      <th>Code</th>\n",
       "      <th>District_Eng</th>\n",
       "      <th>District_Thai</th>\n",
       "      <th>Latitude</th>\n",
       "      <th>Longitude</th>\n",
       "      <th>Population</th>\n",
       "      <th>Residence</th>\n",
       "      <th>Area_Size_sqkm</th>\n",
       "      <th>AVG_Land_Price_sqwa</th>\n",
       "    </tr>\n",
       "  </thead>\n",
       "  <tbody>\n",
       "    <tr>\n",
       "      <th>0</th>\n",
       "      <td>50</td>\n",
       "      <td>Bang Bon</td>\n",
       "      <td>บางบอน</td>\n",
       "      <td>13.657732</td>\n",
       "      <td>100.360839</td>\n",
       "      <td>106919</td>\n",
       "      <td>50239</td>\n",
       "      <td>34.745</td>\n",
       "      <td>87500</td>\n",
       "    </tr>\n",
       "    <tr>\n",
       "      <th>1</th>\n",
       "      <td>6</td>\n",
       "      <td>Bang Kapi</td>\n",
       "      <td>บางกะปิ</td>\n",
       "      <td>13.765833</td>\n",
       "      <td>100.647778</td>\n",
       "      <td>146841</td>\n",
       "      <td>104234</td>\n",
       "      <td>28.523</td>\n",
       "      <td>125000</td>\n",
       "    </tr>\n",
       "    <tr>\n",
       "      <th>2</th>\n",
       "      <td>40</td>\n",
       "      <td>Bang Khae</td>\n",
       "      <td>บางแค</td>\n",
       "      <td>13.696111</td>\n",
       "      <td>100.409444</td>\n",
       "      <td>193315</td>\n",
       "      <td>91765</td>\n",
       "      <td>44.456</td>\n",
       "      <td>111250</td>\n",
       "    </tr>\n",
       "    <tr>\n",
       "      <th>3</th>\n",
       "      <td>5</td>\n",
       "      <td>Bang Khen</td>\n",
       "      <td>บางเขน</td>\n",
       "      <td>13.873889</td>\n",
       "      <td>100.596389</td>\n",
       "      <td>191323</td>\n",
       "      <td>109112</td>\n",
       "      <td>42.123</td>\n",
       "      <td>86750</td>\n",
       "    </tr>\n",
       "    <tr>\n",
       "      <th>4</th>\n",
       "      <td>31</td>\n",
       "      <td>Bang Kho Laem</td>\n",
       "      <td>บางคอแหลม</td>\n",
       "      <td>13.693333</td>\n",
       "      <td>100.502500</td>\n",
       "      <td>88288</td>\n",
       "      <td>39353</td>\n",
       "      <td>10.921</td>\n",
       "      <td>500000</td>\n",
       "    </tr>\n",
       "  </tbody>\n",
       "</table>\n",
       "</div>"
      ],
      "text/plain": [
       "   Code   District_Eng District_Thai   Latitude   Longitude  Population  \\\n",
       "0    50       Bang Bon        บางบอน  13.657732  100.360839      106919   \n",
       "1     6      Bang Kapi       บางกะปิ  13.765833  100.647778      146841   \n",
       "2    40      Bang Khae         บางแค  13.696111  100.409444      193315   \n",
       "3     5      Bang Khen        บางเขน  13.873889  100.596389      191323   \n",
       "4    31  Bang Kho Laem     บางคอแหลม  13.693333  100.502500       88288   \n",
       "\n",
       "   Residence  Area_Size_sqkm  AVG_Land_Price_sqwa  \n",
       "0      50239          34.745                87500  \n",
       "1     104234          28.523               125000  \n",
       "2      91765          44.456               111250  \n",
       "3     109112          42.123                86750  \n",
       "4      39353          10.921               500000  "
      ]
     },
     "execution_count": 13,
     "metadata": {},
     "output_type": "execute_result"
    }
   ],
   "source": [
    "import pandas as pd\n",
    "\n",
    "filename = \"bangkok_info.xlsx\"\n",
    "headers = [\"Code\",\"District_Eng\",\"District_Thai\",\"Latitude\",\"Longitude\", \"Population\",\"Residence\",\n",
    "         \"Area_Size_sqkm\",\"AVG_Land_Price_sqwa\"]\n",
    "\n",
    "df = pd.read_excel(filename, names = headers)\n",
    "df.head()\n"
   ]
  },
  {
   "cell_type": "code",
   "execution_count": null,
   "metadata": {},
   "outputs": [],
   "source": []
  },
  {
   "cell_type": "code",
   "execution_count": null,
   "metadata": {},
   "outputs": [],
   "source": []
  }
 ],
 "metadata": {
  "kernelspec": {
   "display_name": "Python 3",
   "language": "python",
   "name": "python3"
  },
  "language_info": {
   "codemirror_mode": {
    "name": "ipython",
    "version": 3
   },
   "file_extension": ".py",
   "mimetype": "text/x-python",
   "name": "python",
   "nbconvert_exporter": "python",
   "pygments_lexer": "ipython3",
   "version": "3.7.3"
  }
 },
 "nbformat": 4,
 "nbformat_minor": 2
}
