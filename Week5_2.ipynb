{
 "cells": [
  {
   "cell_type": "markdown",
   "metadata": {},
   "source": [
    "# Data Science Capstone Project - Bangkok food business chance! (Report)"
   ]
  },
  {
   "cell_type": "markdown",
   "metadata": {},
   "source": [
    "## Introduction"
   ]
  },
  {
   "cell_type": "markdown",
   "metadata": {},
   "source": [
    "![Bangkok photo](bangkok_photo1.jpg \"Bangkok photo\")"
   ]
  },
  {
   "cell_type": "markdown",
   "metadata": {},
   "source": [
    "###### Photo by: https://bangkokattractions.com/fun-facts-about-bangkok/"
   ]
  },
  {
   "cell_type": "markdown",
   "metadata": {},
   "source": [
    "#### Bangkok, the capital city of Thailand is very famous among visitors as its versatility point of interests and attractions.\n",
    "Bangkok is the hub for most commercial and economical activities of Thailand.\n",
    "As well as, the hub for tourists. Temples, the Grand Palace and lots of shopping centers that largest in Asia.\n",
    "From department stores to outdoor market where you can shopping all day all night with many unique items were selling.\n",
    "Thus, many variety of foods and restaurants scatter around Bangkok.\n",
    "If someone is looking to open a restaurant, what kind of food or restaurant will be the best.\n",
    "And what area of Bangkok will be the most potential place to open, to make the good revenue.\n",
    "##### How can I recommend them to start their businesses? That is the interested problem to solve."
   ]
  },
  {
   "cell_type": "markdown",
   "metadata": {},
   "source": [
    "## Data Section"
   ]
  },
  {
   "cell_type": "markdown",
   "metadata": {},
   "source": [
    "![data photo](data_photo1.jpg \"Data photo\")"
   ]
  },
  {
   "cell_type": "markdown",
   "metadata": {},
   "source": [
    "###### Image by: https://innovativeadagency.com/blog/importance-data-collection/"
   ]
  },
  {
   "cell_type": "markdown",
   "metadata": {},
   "source": [
    "#### To find the solutions, \n",
    "I have to collect some data from Thai Government, private organizations and Wikipedia such as,\n",
    "Bangkok district information, neighborhood, population, residence, land price and geolocation. First to analysis present situations and insight in Bangkok.\n",
    "Then I will use place API from Foursquare, to compare, analysis and predict that what is/are the most capability place by type of food business to start with.\n",
    "There will be used of many Machine Learning Models and Algorithms to help the analysis more precisely and accurately."
   ]
  },
  {
   "cell_type": "markdown",
   "metadata": {},
   "source": [
    "### Data collection, Data sources:\n",
    "\n",
    "I research to collect data for Bangkok. Unfortunately many of them didn't be extracted easily.\n",
    "Because most of them are very difficult format to use and their structure are very poor, such as \n",
    "English name seperately, even some Thai name, latitude and longitude didn't accurately, not easy to use geojson file, data almost picture and pdf format etc.\n",
    "Thus, I have to use web scraping technic to create base data, compute numeric data then input data manually.\n",
    "\n",
    "1. Base data sources (web scraping)  \n",
    "**Bangkok: district name, population, lat, lon**  \n",
    "*Wikipedia*  \n",
    "https://en.wikipedia.org/wiki/List_of_districts_of_Bangkok\n",
    "\n",
    "\n",
    "2. Additional Features (web scraping and input manually)  \n",
    "**Bangkok: population, residence by district, province**  \n",
    "*(Thai Government) Official Statstics Registration Systems*  \n",
    "http://stat.bora.dopa.go.th/stat/statnew/statTDD/views/showProvinceData.php\n",
    "\n",
    "\n",
    "3. Additional Features (web scraping and input manually)  \n",
    "**Bangkok: district sizes**  \n",
    "*Wikisource*  \n",
    "https://th.wikisource.org/wiki/%E0%B8%A3%E0%B8%B2%E0%B8%A2%E0%B8%8A%E0%B8%B7%E0%B9%88%E0%B8%AD%E0%B9%80%E0%B8%82%E0%B8%95%E0%B9%83%E0%B8%99%E0%B8%81%E0%B8%A3%E0%B8%B8%E0%B8%87%E0%B9%80%E0%B8%97%E0%B8%9E%E0%B8%A1%E0%B8%AB%E0%B8%B2%E0%B8%99%E0%B8%84%E0%B8%A3%E0%B9%80%E0%B8%A3%E0%B8%B5%E0%B8%A2%E0%B8%87%E0%B8%95%E0%B8%B2%E0%B8%A1%E0%B8%82%E0%B8%99%E0%B8%B2%E0%B8%94%E0%B8%9E%E0%B8%B7%E0%B9%89%E0%B8%99%E0%B8%97%E0%B8%B5%E0%B9%88\n",
    "\n",
    "\n",
    "4. Additional Features (compute prices by mid-range)  \n",
    "**Bangkok: land prices estimation**  \n",
    "*(Thai Government) The Treasury Department*  \n",
    "http://www.treasury.go.th/ewt_news.php?nid=173\n",
    "\n",
    "\n",
    "5. Check features (map, lat, lon) that reliable or not and edit some of them. (input manually)  \n",
    "**Bangkok:  lat, lon, area names**  \n",
    "*Google Map*  \n",
    "https://www.google.com/maps/\n",
    "\n",
    "\n",
    "6. Source geojson file (map, lat, lon)  \n",
    "**Bangkok:  geojson file**  \n",
    "*WorldMap by Harvard University*  \n",
    "http://worldmap.harvard.edu/data/geonode:adm2_greaterBK_hD4\n",
    "\n",
    "\n",
    "7. Check features (map, lat, lon) edit and create new geojson file. (edit json file)  \n",
    "**Bangkok:  geojson file edit by district**  \n",
    "*Nominatim (Openstreetmap)*  \n",
    "https://nominatim.openstreetmap.org/\n",
    "\n"
   ]
  },
  {
   "cell_type": "markdown",
   "metadata": {},
   "source": [
    "After data was collected and clean, **I was summarize these data to easy-to-use format.\n",
    "Then create a new dataset by excel format as below.**"
   ]
  },
  {
   "cell_type": "code",
   "execution_count": 16,
   "metadata": {
    "scrolled": true
   },
   "outputs": [
    {
     "data": {
      "text/html": [
       "<div>\n",
       "<style scoped>\n",
       "    .dataframe tbody tr th:only-of-type {\n",
       "        vertical-align: middle;\n",
       "    }\n",
       "\n",
       "    .dataframe tbody tr th {\n",
       "        vertical-align: top;\n",
       "    }\n",
       "\n",
       "    .dataframe thead th {\n",
       "        text-align: right;\n",
       "    }\n",
       "</style>\n",
       "<table border=\"1\" class=\"dataframe\">\n",
       "  <thead>\n",
       "    <tr style=\"text-align: right;\">\n",
       "      <th></th>\n",
       "      <th>Code</th>\n",
       "      <th>District_Eng</th>\n",
       "      <th>District_Thai</th>\n",
       "      <th>Latitude</th>\n",
       "      <th>Longitude</th>\n",
       "      <th>Population</th>\n",
       "      <th>Residence</th>\n",
       "      <th>Area_Size_sqkm</th>\n",
       "      <th>AVG_Land_Price_sqwa</th>\n",
       "    </tr>\n",
       "  </thead>\n",
       "  <tbody>\n",
       "    <tr>\n",
       "      <th>0</th>\n",
       "      <td>50</td>\n",
       "      <td>Bang Bon</td>\n",
       "      <td>บางบอน</td>\n",
       "      <td>13.657732</td>\n",
       "      <td>100.360839</td>\n",
       "      <td>106919</td>\n",
       "      <td>50239</td>\n",
       "      <td>34.745</td>\n",
       "      <td>87500</td>\n",
       "    </tr>\n",
       "    <tr>\n",
       "      <th>1</th>\n",
       "      <td>6</td>\n",
       "      <td>Bang Kapi</td>\n",
       "      <td>บางกะปิ</td>\n",
       "      <td>13.765833</td>\n",
       "      <td>100.647778</td>\n",
       "      <td>146841</td>\n",
       "      <td>104234</td>\n",
       "      <td>28.523</td>\n",
       "      <td>125000</td>\n",
       "    </tr>\n",
       "    <tr>\n",
       "      <th>2</th>\n",
       "      <td>40</td>\n",
       "      <td>Bang Khae</td>\n",
       "      <td>บางแค</td>\n",
       "      <td>13.696111</td>\n",
       "      <td>100.409444</td>\n",
       "      <td>193315</td>\n",
       "      <td>91765</td>\n",
       "      <td>44.456</td>\n",
       "      <td>111250</td>\n",
       "    </tr>\n",
       "    <tr>\n",
       "      <th>3</th>\n",
       "      <td>5</td>\n",
       "      <td>Bang Khen</td>\n",
       "      <td>บางเขน</td>\n",
       "      <td>13.873889</td>\n",
       "      <td>100.596389</td>\n",
       "      <td>191323</td>\n",
       "      <td>109112</td>\n",
       "      <td>42.123</td>\n",
       "      <td>86750</td>\n",
       "    </tr>\n",
       "    <tr>\n",
       "      <th>4</th>\n",
       "      <td>31</td>\n",
       "      <td>Bang Kho Laem</td>\n",
       "      <td>บางคอแหลม</td>\n",
       "      <td>13.693333</td>\n",
       "      <td>100.502500</td>\n",
       "      <td>88288</td>\n",
       "      <td>39353</td>\n",
       "      <td>10.921</td>\n",
       "      <td>500000</td>\n",
       "    </tr>\n",
       "  </tbody>\n",
       "</table>\n",
       "</div>"
      ],
      "text/plain": [
       "   Code   District_Eng District_Thai   Latitude   Longitude  Population  \\\n",
       "0    50       Bang Bon        บางบอน  13.657732  100.360839      106919   \n",
       "1     6      Bang Kapi       บางกะปิ  13.765833  100.647778      146841   \n",
       "2    40      Bang Khae         บางแค  13.696111  100.409444      193315   \n",
       "3     5      Bang Khen        บางเขน  13.873889  100.596389      191323   \n",
       "4    31  Bang Kho Laem     บางคอแหลม  13.693333  100.502500       88288   \n",
       "\n",
       "   Residence  Area_Size_sqkm  AVG_Land_Price_sqwa  \n",
       "0      50239          34.745                87500  \n",
       "1     104234          28.523               125000  \n",
       "2      91765          44.456               111250  \n",
       "3     109112          42.123                86750  \n",
       "4      39353          10.921               500000  "
      ]
     },
     "execution_count": 16,
     "metadata": {},
     "output_type": "execute_result"
    }
   ],
   "source": [
    "import pandas as pd\n",
    "\n",
    "filename = \"bangkok_info.xlsx\"\n",
    "headers = [\"Code\",\"District_Eng\",\"District_Thai\",\"Latitude\",\"Longitude\", \"Population\",\"Residence\",\n",
    "         \"Area_Size_sqkm\",\"AVG_Land_Price_sqwa\"]\n",
    "\n",
    "df_bangkok = pd.read_excel(filename, names = headers)\n",
    "df_bangkok.head()\n"
   ]
  },
  {
   "cell_type": "markdown",
   "metadata": {},
   "source": [
    "----"
   ]
  },
  {
   "cell_type": "markdown",
   "metadata": {},
   "source": [
    "## Methodology"
   ]
  },
  {
   "cell_type": "markdown",
   "metadata": {},
   "source": [
    "Base on my research, my domain knowledge and collected dataset, I have found that Bangkok's neighborhood didn't verify clearly. There is no clear information about neighborhood detail from the government or private organizations.\n",
    "Thus, take a look on Foursquare's Place API."
   ]
  },
  {
   "cell_type": "markdown",
   "metadata": {},
   "source": [
    "After I have check the data, this latitude and longitude is not at the center of Bangkok Area. Our ploblem is to find the good area to do food business. Thus, I have to use the latitude and longitude of neighborhood \"SIAM\" (\"สยาม\" in Thai) where is the hub of shopping center and transportation. Center area is \"BTS Siam Station\", find the latitude and longitude data by Google Map Search."
   ]
  },
  {
   "cell_type": "markdown",
   "metadata": {},
   "source": [
    "Then I use Foursquare API to compare data that I have collected and found that:  \n",
    "Eventhough Foursquare's databases, \"neighborhood\" of Bangkok is almost \"NaN\" that is very difficult to match. Thus, I will use \"District\" (or \"city\" column in Foursquare) to analysis instead."
   ]
  },
  {
   "cell_type": "markdown",
   "metadata": {},
   "source": [
    "First, I use population and residence data from dataframe and plot."
   ]
  },
  {
   "cell_type": "markdown",
   "metadata": {},
   "source": [
    "![bangkokPopRes2018 photo](bangkokPopRes2018.png \"bangkokPopRes2018 photo\")"
   ]
  },
  {
   "cell_type": "markdown",
   "metadata": {},
   "source": [
    "That's not clear to understand enough. Let's finding more insight by residence per citizen index."
   ]
  },
  {
   "cell_type": "markdown",
   "metadata": {},
   "source": [
    "After compute from dataframe, I have found:  \n",
    "Average Bangkok Residence per Citizen: 1.91  \n",
    "In every 1 house in bangkok, will be approximately 2 citizen are living.  \n",
    "Then, compute by district and added to dataframe. Visualize by bar chart."
   ]
  },
  {
   "cell_type": "markdown",
   "metadata": {},
   "source": [
    "![bangkokRpC2018 photo](bangkokRpC2018.png \"bangkokRpC2018 photo\")"
   ]
  },
  {
   "cell_type": "markdown",
   "metadata": {},
   "source": [
    "View by choropleth map for more insight."
   ]
  },
  {
   "cell_type": "markdown",
   "metadata": {},
   "source": [
    "![c1 photo](c1.JPG \"c1 photo\")"
   ]
  },
  {
   "cell_type": "markdown",
   "metadata": {},
   "source": [
    "I have found that:  \n",
    "Bangkok people seem living outer area. Maybe land price is related factor. We will analysis later.  "
   ]
  },
  {
   "cell_type": "markdown",
   "metadata": {},
   "source": [
    "Now, let's take a look to another feature. We have 'Area Size' that we can find more insight about density of living by district.  \n",
    "  \n",
    "\n",
    "The density of living by district has shown above. For example, 'Pom Pram Sattru Phai' district is highest density with 23,667 people per square kilimaters.  \n",
    "Let's visualize."
   ]
  },
  {
   "cell_type": "markdown",
   "metadata": {},
   "source": [
    "![bangkokPopDen2018 photo](bangkokPopDen2018.png \"bangkokPopDen2018 photo\")"
   ]
  },
  {
   "cell_type": "markdown",
   "metadata": {},
   "source": [
    "View by choropleth map for more insight."
   ]
  },
  {
   "cell_type": "markdown",
   "metadata": {},
   "source": [
    "![c2 photo](c2.JPG \"c2 photo\")"
   ]
  },
  {
   "cell_type": "markdown",
   "metadata": {},
   "source": [
    "Center of Bangkok is the most density of population.  \n",
    "Why people are concentrate into the middle of Bangkok? Maybe there are many well paying jobs or a lot of chance to make tons of money here?"
   ]
  },
  {
   "cell_type": "markdown",
   "metadata": {},
   "source": [
    "Now, let's see average land prices that collected and analysis. Visualize by map."
   ]
  },
  {
   "cell_type": "markdown",
   "metadata": {},
   "source": [
    "![c3 photo](c3.JPG \"c3 photo\")"
   ]
  },
  {
   "cell_type": "markdown",
   "metadata": {},
   "source": [
    "For average land prices index, the more high price of land, the more concentrate into middle of Bangkok.  \n",
    "**People who live here must be wealthy.**"
   ]
  },
  {
   "cell_type": "markdown",
   "metadata": {},
   "source": [
    "Try to reverse colors and compare to other map. Maybe it hidden something..."
   ]
  },
  {
   "cell_type": "markdown",
   "metadata": {},
   "source": [
    "![c4 photo](c4.JPG \"c4 photo\")"
   ]
  },
  {
   "cell_type": "markdown",
   "metadata": {},
   "source": [
    "Interesting! It's similar to \"Residence per Citizen\" map.  \n",
    "We can say that, middle income people generality live around the red area that affordable land and residence.  \n",
    "**This will concern to make a decision when we start some business.**"
   ]
  },
  {
   "cell_type": "markdown",
   "metadata": {},
   "source": [
    "To ensure our analysis, I use Machine Learning \"K-Means\" to clustering these area (district).\n",
    "And hopely to find more insight.  \n",
    "  \n",
    "#### The reason that I use \"K-Means\":  \n",
    "1. It's very powerful algorithm to clusting non-label data.\n",
    "2. Dataset include many numeric value that very suitable to use K-Means. It will perform good result."
   ]
  },
  {
   "cell_type": "markdown",
   "metadata": {},
   "source": [
    "After pre-processing data, normalizing over the standard deviation,   \n",
    "I try to modeling and tranining then refine some parameters.  \n",
    "Especially the cluster number, tune many times. And found that \"6\" group will be best result."
   ]
  },
  {
   "cell_type": "markdown",
   "metadata": {},
   "source": [
    "## Result Section"
   ]
  },
  {
   "cell_type": "markdown",
   "metadata": {},
   "source": [
    "**Group 1: Mid-Low land price and mid population density group. (next to border of Bangkok)**  \n",
    "Land Price:  101,062  THB/sqwa  \n",
    "Population Density:  5,077  people/sqkm  "
   ]
  },
  {
   "cell_type": "markdown",
   "metadata": {},
   "source": [
    "![g1 photo](g1.JPG \"g1 photo\")"
   ]
  },
  {
   "cell_type": "markdown",
   "metadata": {},
   "source": [
    "----"
   ]
  },
  {
   "cell_type": "markdown",
   "metadata": {},
   "source": [
    "**Group 2: Very high land price and very high population density group. (at the center and nearly center of Bangkok)**  \n",
    "Land Price: 500,000  THB/sqwa  \n",
    "Population Density: 10,494  people/sqkm"
   ]
  },
  {
   "cell_type": "markdown",
   "metadata": {},
   "source": [
    "![g2 photo](g2.JPG \"g2 photo\")"
   ]
  },
  {
   "cell_type": "markdown",
   "metadata": {},
   "source": [
    "----"
   ]
  },
  {
   "cell_type": "markdown",
   "metadata": {},
   "source": [
    "**Group 3: Mid-High land price and high population density group. (between center area and downtown of Bangkok)**  \n",
    "Land Price: 288,889  THB/sqwa  \n",
    "Population Density: 9,089  people/sqkm"
   ]
  },
  {
   "cell_type": "markdown",
   "metadata": {},
   "source": [
    "![g3 photo](g3.JPG \"g3 photo\")"
   ]
  },
  {
   "cell_type": "markdown",
   "metadata": {},
   "source": [
    "----"
   ]
  },
  {
   "cell_type": "markdown",
   "metadata": {},
   "source": [
    "**Group 4: Mid land price and mid-low population density group. (a litte far and next to middle of Bangkok)**  \n",
    "Land Price: 112,625  THB/sqwa  \n",
    "Population Density: 4,080  people/sqkm"
   ]
  },
  {
   "cell_type": "markdown",
   "metadata": {},
   "source": [
    "![g4 photo](g4.JPG \"g4 photo\")"
   ]
  },
  {
   "cell_type": "markdown",
   "metadata": {},
   "source": [
    "----"
   ]
  },
  {
   "cell_type": "markdown",
   "metadata": {},
   "source": [
    "**Group 5: High land price and mid-high population density group. (next to middle of Bangkok)**  \n",
    "Land Price: 355,000  THB/sqwa  \n",
    "Population Density: 6,451  people/sqkm"
   ]
  },
  {
   "cell_type": "markdown",
   "metadata": {},
   "source": [
    "![g5 photo](g5.JPG \"g5 photo\")"
   ]
  },
  {
   "cell_type": "markdown",
   "metadata": {},
   "source": [
    "----"
   ]
  },
  {
   "cell_type": "markdown",
   "metadata": {},
   "source": [
    "**Group 6: Low land price and low population density group. (border of Bangkok)**  \n",
    "Land Price: 61,086  THB/sqwa  \n",
    "Population Density: 3,202  people/sqkm"
   ]
  },
  {
   "cell_type": "markdown",
   "metadata": {},
   "source": [
    "![g6 photo](g6.JPG \"g6 photo\")"
   ]
  },
  {
   "cell_type": "markdown",
   "metadata": {},
   "source": [
    "Now, we understand insight of Bangkok. Let's move to the next section."
   ]
  },
  {
   "cell_type": "markdown",
   "metadata": {},
   "source": [
    "----"
   ]
  },
  {
   "cell_type": "markdown",
   "metadata": {},
   "source": [
    "## Discuss Section"
   ]
  },
  {
   "cell_type": "markdown",
   "metadata": {},
   "source": [
    "This section we will use Foursqure API to find that what kind of food business will be more suitable to start. It's depend on stakeholder's interest.  \n",
    "**But for me, I want to find that the center area of Bangkok, what kind of food business will be most interesting.**"
   ]
  },
  {
   "cell_type": "markdown",
   "metadata": {},
   "source": [
    "After request Foursquare API, I have found many limitation of free account. Such as search result item limit.  \n",
    "But for learning, that's good enough."
   ]
  },
  {
   "cell_type": "markdown",
   "metadata": {},
   "source": [
    "Search result example, Foursquare Venues by **\"Food\" category nearby BTS Siam Station (center of Bangkok) to find an insight.**"
   ]
  },
  {
   "cell_type": "markdown",
   "metadata": {},
   "source": [
    "![fq1 photo](fq1.JPG \"fq1 photo\")"
   ]
  },
  {
   "cell_type": "markdown",
   "metadata": {},
   "source": [
    "Visualize Foursquare's venues on the map.\n",
    "Add marker together with Land Prices choropleth map (weathly people area)"
   ]
  },
  {
   "cell_type": "markdown",
   "metadata": {},
   "source": [
    "![fq2 photo](fq2.JPG \"fq2 photo\")"
   ]
  },
  {
   "cell_type": "markdown",
   "metadata": {},
   "source": [
    "The red and orange area are:  \n",
    "  \n",
    "Group 2: Very high land price and very high population density group. (at the center and nearly center of Bangkok)  \n",
    "**There is the main business area and lots of weathly people around here. Such as Siam, Sathorn, Silom, Chidlom, Ploenchit etc.**\n",
    "\n",
    "and  \n",
    "  \n",
    "Group 5: High land price and mid-high population density group. (next to middle of Bangkok)  \n",
    "**It is called \"Sukhumvit\" area along Sukhumvit Road where mostly rich people living.**\n",
    "  \n",
    "**That's many of weathly people there, maybe a good chance to do this food business!**"
   ]
  },
  {
   "cell_type": "markdown",
   "metadata": {},
   "source": [
    "Next, try to find insight from venue food category."
   ]
  },
  {
   "cell_type": "markdown",
   "metadata": {},
   "source": [
    "![fq3 photo](fq3.JPG \"fq3 photo\")"
   ]
  },
  {
   "cell_type": "markdown",
   "metadata": {},
   "source": [
    "Great! the result was showing that \"Food Court\" category is the most popular in this area. Other food category with a fews and separately.  \n",
    "**To start food business in this area, there will be yet a good chance with any kind of food category without most popular one (Food Court).**"
   ]
  },
  {
   "cell_type": "markdown",
   "metadata": {},
   "source": [
    "----"
   ]
  },
  {
   "cell_type": "markdown",
   "metadata": {},
   "source": [
    "## Conclusion"
   ]
  },
  {
   "cell_type": "markdown",
   "metadata": {},
   "source": [
    "As the result, there are many concern and many way to recommend. It's depend on what we are interesting.\n",
    "Not only food business, but also other business like attractions, entertainment, education etc., that we can request from API provider like Foursquare."
   ]
  },
  {
   "cell_type": "markdown",
   "metadata": {},
   "source": [
    "Some free account will has its limitation. But we can apply them to work efficiently.  \n",
    "For example, in my case the limitation of search item, we can change the latitude and longitude to other area or district, to find more insights. Then Analysis, use machine learning to clustering more item and type. Or use it to predict label data to make decision confidently."
   ]
  },
  {
   "cell_type": "markdown",
   "metadata": {},
   "source": [
    "Finally, I have to say thank you to Coursere, Instructors, TAs, Menters and all of our Classmates.  \n",
    "You make me here to finish this project, many courses in the past."
   ]
  },
  {
   "cell_type": "markdown",
   "metadata": {},
   "source": [
    "And you who are reading this work. Let make data science society and our world much more better, by sharing your work and  invaluable experience.  \n",
    "  \n",
    "Thank you very much."
   ]
  },
  {
   "cell_type": "markdown",
   "metadata": {},
   "source": [
    "*Chatchaphon Nilkumhang (Aey)*"
   ]
  },
  {
   "cell_type": "code",
   "execution_count": null,
   "metadata": {},
   "outputs": [],
   "source": []
  },
  {
   "cell_type": "code",
   "execution_count": null,
   "metadata": {},
   "outputs": [],
   "source": []
  },
  {
   "cell_type": "code",
   "execution_count": null,
   "metadata": {},
   "outputs": [],
   "source": []
  },
  {
   "cell_type": "code",
   "execution_count": null,
   "metadata": {},
   "outputs": [],
   "source": []
  },
  {
   "cell_type": "code",
   "execution_count": null,
   "metadata": {},
   "outputs": [],
   "source": []
  }
 ],
 "metadata": {
  "kernelspec": {
   "display_name": "Python 3",
   "language": "python",
   "name": "python3"
  },
  "language_info": {
   "codemirror_mode": {
    "name": "ipython",
    "version": 3
   },
   "file_extension": ".py",
   "mimetype": "text/x-python",
   "name": "python",
   "nbconvert_exporter": "python",
   "pygments_lexer": "ipython3",
   "version": "3.7.3"
  }
 },
 "nbformat": 4,
 "nbformat_minor": 2
}
